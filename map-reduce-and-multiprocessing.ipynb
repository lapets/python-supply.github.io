{
 "cells": [
  {
   "cell_type": "markdown",
   "metadata": {
    "slideshow": {
     "slide_type": "slide"
    }
   },
   "source": [
    "# Map, Reduce, and Multiprocessing"
   ]
  },
  {
   "cell_type": "markdown",
   "metadata": {
    "slideshow": {
     "slide_type": "slide"
    }
   },
   "source": [
    "Multiprocessing capabilities can be an effective tool for speeding up a time-consuming workflow by making it possible to execute portions of the workflow in parallel across multiple CPU cores. However, for more complex workflows, data and control flow dependencies that can lead to race conditions can make implementation, debugging, and maintenance more challenging."
   ]
  },
  {
   "cell_type": "markdown",
   "metadata": {
    "slideshow": {
     "slide_type": "slide"
    }
   },
   "source": [
    "One approach to consider when planning a new workflow is whether the workflow is amenable to a more functional implementation that leverages *map* and *reduce* operations (*i.e.,* whether it is compatible with the [MapReduce](https://en.wikipedia.org/wiki/MapReduce) paradigm). In practice, many common workflows that can be parallelized are also possible to implement in this paradigm. If this fits your workflow, you can take advantage of this to make your use multiprocessing solution simpler, more elegant, and easier to maintain."
   ]
  },
  {
   "cell_type": "markdown",
   "metadata": {
    "slideshow": {
     "slide_type": "slide"
    }
   },
   "source": [
    "## Map and Reduce"
   ]
  },
  {
   "cell_type": "markdown",
   "metadata": {
    "slideshow": {
     "slide_type": "slide"
    }
   },
   "source": [
    "Because Python supports the functional programming paradigm and has built-in `map` and `reduce` functions, it is straightforward to prototype a solution to a problem using these building blocks."
   ]
  },
  {
   "cell_type": "markdown",
   "metadata": {
    "slideshow": {
     "slide_type": "slide"
    }
   },
   "source": [
    "A popular use case used in introductory materials on frameworks that support the MapReduce paradigm is that of empirically estimating the value of $\\pi$. The formula for the area $A$ of a circle having radius $r$ is $A = \\pi r^2$, so the radius and area of a circle can be used to compute $\\pi = A/r^2$. Letting $r = \\frac{1}{2}$ yields\n",
    "\n",
    "$$\\pi = \\frac{A}{\\Big(\\frac{1}{2}\\Big)^2} = 4A.$$\n",
    "\n",
    "So it is only necessary to multiply by $4$ the area of a circle having a radius of $\\frac{1}{2}$."
   ]
  },
  {
   "cell_type": "markdown",
   "metadata": {
    "slideshow": {
     "slide_type": "slide"
    }
   },
   "source": [
    "A circle with a radius of $\\frac{1}{2}$ has a diameter of $1$ and so it fits perfectly inside a square having sides of length $1$ and thus an area of $1 \\cdot 1 = 1$. Thus, it is possible to estimate $A$ by generating random points inside the square of area $1$ and counting how many of the points are actually inside the circle of radius $\\frac{1}{2}$. Each point has a probability of $\\frac{A}{1}$ of being inside the circle. After generating $n$ random points, if $k$ of them are in the circle then the equation below should hold:\n",
    "\n",
    "$$\\frac{A}{1} = \\frac{k}{n}.$$\n",
    "\n",
    "This can then be used to compute the approximation $\\pi \\approx 4 \\cdot \\frac{k}{n}$. Below, a plot is generated that illustrates how this estimate can be computed."
   ]
  },
  {
   "cell_type": "code",
   "execution_count": 1,
   "metadata": {},
   "outputs": [
    {
     "data": {
      "image/png": "[encoded data removed]",
      "text/plain": [
       "<Figure size 288x288 with 1 Axes>"
      ]
     },
     "metadata": {
      "needs_background": "light"
     },
     "output_type": "display_data"
    },
    {
     "data": {
      "text/plain": [
       "3.18"
      ]
     },
     "execution_count": 1,
     "metadata": {},
     "output_type": "execute_result"
    }
   ],
   "source": [
    "import matplotlib.pyplot as plt\n",
    "import matplotlib.pyplot as fig\n",
    "import matplotlib.patches as pch\n",
    "import numpy as np\n",
    "\n",
    "# Draw the Cartesian plane between (-0.6, -0,6) and (0.6, 0.6).\n",
    "fig = plt.figure(figsize=fig.figaspect(1))\n",
    "axes = fig.add_subplot(1, 1, 1)\n",
    "axes.set_xlim(-0.6, 0.6)\n",
    "axes.set_ylim(-0.6, 0.6)\n",
    "\n",
    "# Center at origin a circle of diameter 1 and a square of area 1.\n",
    "axes.add_patch(plt.Circle((0, 0), radius=0.5, edgecolor='b', facecolor='None'))\n",
    "axes.add_patch(pch.Rectangle((-0.5, -0.5), 1, 1, edgecolor='r', facecolor='None'))\n",
    "\n",
    "# Add random points and color them blue if they are in the circle.\n",
    "n = 200\n",
    "(x, y) = (-0.5 + np.random.rand(n), -0.5 + np.random.rand(n))\n",
    "colors = ['b' if (x[i]**2 + y[i]**2 <= 0.5**2) else 'r' for i in range(n)]\n",
    "plt.scatter(x, y, c=colors)\n",
    "\n",
    "# Show the plot and the fraction of points inside the circle.\n",
    "plt.show()\n",
    "4 * colors.count('b') / len(colors)"
   ]
  },
  {
   "cell_type": "markdown",
   "metadata": {
    "slideshow": {
     "slide_type": "slide"
    }
   },
   "source": [
    "To implement the same workflow using map and reduce operations, it is necessary to split the problem into two parts: (1) a step in which there is no dependency between the entries (*i.e.*, points) in the data, and (2) a step during which these entries need to be combined into a final result."
   ]
  },
  {
   "cell_type": "markdown",
   "metadata": {
    "slideshow": {
     "slide_type": "slide"
    }
   },
   "source": [
    "One approach that can make a MapReduce-like workflow concise to implement is to ensure that the *representation* of a data entry and a partially aggregated set of entries is always the same. This makes it possible to have just a single function that can always take two partial results and combine in into a new, larger partial result. In this example, we can choose a representation that reflects the final goal we want to compute: a count of points that are *in* the circle and a count of all the points in the square that have been generated so far."
   ]
  },
  {
   "cell_type": "code",
   "execution_count": 1,
   "metadata": {},
   "outputs": [
    {
     "data": {
      "text/plain": [
       "{'circle': 314, 'square': 400}"
      ]
     },
     "execution_count": 1,
     "metadata": {},
     "output_type": "execute_result"
    }
   ],
   "source": [
    "{\n",
    "    \"circle\": 314, \n",
    "    \"square\": 400\n",
    "}"
   ]
  },
  {
   "cell_type": "markdown",
   "metadata": {
    "slideshow": {
     "slide_type": "slide"
    }
   },
   "source": [
    "The initial data entries are now just a special case of the above: a point inside the circle is represented as `{\"circle\":1, \"square\":1}` and a point outside the circle is represented as `{\"circle\":0, \"square\":1}`. You can now implement the function `trial` below that corresponds to the map step of the MapReduce-like workflow."
   ]
  },
  {
   "cell_type": "code",
   "execution_count": 1,
   "metadata": {},
   "outputs": [],
   "source": [
    "def trial(instance):\n",
    "    from random import random\n",
    "    (x, y) = (-0.5 + random(), -0.5 + random())\n",
    "    return {\n",
    "        \"circle\": 1 if (x**2 + y**2 <= 0.5**2) else 0, \n",
    "        \"square\": 1\n",
    "      }"
   ]
  },
  {
   "cell_type": "markdown",
   "metadata": {
    "slideshow": {
     "slide_type": "slide"
    }
   },
   "source": [
    "The function `combine` for the second step is now even simpler to implement. All you need is a function that combines two aggregated estimates into a new aggregated estimate."
   ]
  },
  {
   "cell_type": "code",
   "execution_count": 1,
   "metadata": {},
   "outputs": [],
   "source": [
    "def combine(estimate_a, estimate_b):\n",
    "    return {\n",
    "        \"circle\": estimate_a[\"circle\"] + estimate_b[\"circle\"], \n",
    "        \"square\": estimate_a[\"square\"] + estimate_b[\"square\"]\n",
    "    }"
   ]
  },
  {
   "cell_type": "markdown",
   "metadata": {
    "slideshow": {
     "slide_type": "slide"
    }
   },
   "source": [
    "Using the `trial` and `combine` functions to implement a MapReduce-like workflow is then straightforward."
   ]
  },
  {
   "cell_type": "code",
   "execution_count": 1,
   "metadata": {},
   "outputs": [
    {
     "name": "stdout",
     "output_type": "stream",
     "text": [
      "{'circle': 783, 'square': 1000}\n",
      "3.132\n"
     ]
    }
   ],
   "source": [
    "from functools import reduce\n",
    "estimate = reduce(combine, map(trial, range(1000)))\n",
    "print(estimate)\n",
    "print(4 * (estimate[\"circle\"] / estimate[\"square\"]))"
   ]
  },
  {
   "cell_type": "markdown",
   "metadata": {
    "slideshow": {
     "slide_type": "slide"
    }
   },
   "source": [
    "## Partial Application of Functions"
   ]
  },
  {
   "cell_type": "markdown",
   "metadata": {
    "slideshow": {
     "slide_type": "slide"
    }
   },
   "source": [
    "A brief digression to review higher-order functions (something covered in a [previous article on decorators](https://python.supply/higher-order-functions-and-decorators)) will be useful for our subsequent examples. Given a function that takes more than one argument, it is possible to turn that into a function that takes only the first argument and returns a new function that takes the rest of the arguments as inputs. As an example, consider the following addition function."
   ]
  },
  {
   "cell_type": "code",
   "execution_count": 1,
   "metadata": {},
   "outputs": [],
   "source": [
    "def add(x, y):\n",
    "    return x + y"
   ]
  },
  {
   "cell_type": "markdown",
   "metadata": {
    "slideshow": {
     "slide_type": "slide"
    }
   },
   "source": [
    "The following higher-order function can be used to transform it into a function that returns a function."
   ]
  },
  {
   "cell_type": "code",
   "execution_count": 1,
   "metadata": {},
   "outputs": [
    {
     "data": {
      "text/plain": [
       "5"
      ]
     },
     "execution_count": 1,
     "metadata": {},
     "output_type": "execute_result"
    }
   ],
   "source": [
    "def partial_(f, x):\n",
    "    def g(y):\n",
    "        return f(x, y)\n",
    "    return g\n",
    "\n",
    "add_ = partial_(add, 2)\n",
    "add_(3)"
   ]
  },
  {
   "cell_type": "markdown",
   "metadata": {
    "slideshow": {
     "slide_type": "slide"
    }
   },
   "source": [
    "Python has a function [`partial`](https://docs.python.org/3/library/functools.html#functools.partial) in the built-in [functools](https://docs.python.org/3/library/functools.html#functools.partial) library that does exactly what `partial_` does in the above example."
   ]
  },
  {
   "cell_type": "code",
   "execution_count": 1,
   "metadata": {},
   "outputs": [
    {
     "data": {
      "text/plain": [
       "5"
      ]
     },
     "execution_count": 1,
     "metadata": {},
     "output_type": "execute_result"
    }
   ],
   "source": [
    "from functools import partial\n",
    "add_ = partial(add, 2)\n",
    "add_(3)"
   ]
  },
  {
   "cell_type": "markdown",
   "metadata": {
    "slideshow": {
     "slide_type": "slide"
    }
   },
   "source": [
    "This is actually a special case of [currying](https://en.wikipedia.org/wiki/Currying), a topic that is usually covered in materials on the functional programming paradigm and associated techniques."
   ]
  },
  {
   "cell_type": "markdown",
   "metadata": {
    "slideshow": {
     "slide_type": "slide"
    }
   },
   "source": [
    "## Multiprocessing"
   ]
  },
  {
   "cell_type": "markdown",
   "metadata": {
    "slideshow": {
     "slide_type": "slide"
    }
   },
   "source": [
    "Python's built-in [multiprocessing](https://docs.python.org/3/library/multiprocessing.html) library allows programmers to run multiple processes in parallel if the operating system and hardware support it."
   ]
  },
  {
   "cell_type": "markdown",
   "metadata": {
    "slideshow": {
     "slide_type": "slide"
    }
   },
   "source": [
    "Throughout the rest of this article, an auxiliary function is used that makes it easier to run the multiprocessing library within Jupyter Notebook. This function is a [decorator](https://python.supply/higher-order-functions-and-decorators) that stores the decorated function definition in a temporary module file so that the the multiprocessing library can load it."
   ]
  },
  {
   "cell_type": "code",
   "execution_count": 1,
   "metadata": {
    "slideshow": {
     "slide_type": "skip"
    }
   },
   "outputs": [],
   "source": [
    "def module(function):\n",
    "    import os\n",
    "    import importlib\n",
    "    import uuid\n",
    "    import inspect\n",
    "\n",
    "    directory = '/tmp/' + __name__ + '/'\n",
    "    module_name = 'tmp.' + __name__ + '.' + function.__name__\n",
    "    \n",
    "    if not os.path.exists('.' + directory):\n",
    "        os.makedirs('.' + directory)\n",
    "\n",
    "    filepath = '.' + directory + '/' + function.__name__ + \".py\"\n",
    "    with open(filepath, \"w\") as file:\n",
    "        definition = inspect.getsource(function)\n",
    "        lines = definition.split(\"\\n\")\n",
    "        if lines[0] == \"@module\":\n",
    "            definition = \"\\n\".join(lines[1:])\n",
    "        file.write(definition)\n",
    "\n",
    "    module = importlib.import_module(module_name, package=function.__name__)\n",
    "    return getattr(module, function.__name__)"
   ]
  },
  {
   "cell_type": "markdown",
   "metadata": {
    "slideshow": {
     "slide_type": "slide"
    }
   },
   "source": [
    "One of the simplest ways to use the multiprocessing library is to create a pool of processes and have all the processes in that pool execute the same function."
   ]
  },
  {
   "cell_type": "code",
   "execution_count": 1,
   "metadata": {
    "scrolled": true,
    "slideshow": {
     "slide_type": "skip"
    }
   },
   "outputs": [
    {
     "name": "stdout",
     "output_type": "stream",
     "text": [
      "[2, 4, 6, 8]\n"
     ]
    }
   ],
   "source": [
    "import multiprocessing as mp\n",
    "\n",
    "@module\n",
    "def double(x):\n",
    "    return x + x\n",
    "\n",
    "with mp.Pool(processes = mp.cpu_count()) as pool:\n",
    "    ys = pool.map(double, [1, 2, 3, 4])\n",
    "    print(ys)"
   ]
  },
  {
   "cell_type": "markdown",
   "metadata": {
    "slideshow": {
     "slide_type": "slide"
    }
   },
   "source": [
    "As you can see, the API is already fairly close to a MapReduce-like workflow. However, the workflow for approximating $\\pi$ (which is representative of other MapReduce-like workflows) requires that a single aggregated result value is computed at the end."
   ]
  },
  {
   "cell_type": "markdown",
   "metadata": {
    "slideshow": {
     "slide_type": "slide"
    }
   },
   "source": [
    "One way to proceed is to split the point generation portion of the workflow across multiple processes, with each process computing its own estimate iteratively for its subset of the total number of trials. Once all the processes compute their individual estimates, the *reduce* portion of the workflow is split into two parts:\n",
    "\n",
    "* each process applies `reduce` to compute a single estimate for that process, and\n",
    "* a global `reduce` operation is applied across all the estimates returned by all the processes.\n",
    "\n",
    "An implementation that uses this approach is presented below."
   ]
  },
  {
   "cell_type": "code",
   "execution_count": 1,
   "metadata": {
    "slideshow": {
     "slide_type": "skip"
    }
   },
   "outputs": [],
   "source": [
    "@module\n",
    "def trial(instance):\n",
    "    from random import random\n",
    "    (x, y) = (-0.5 + random(), -0.5 + random())\n",
    "    return {\n",
    "        \"circle\": 1 if (x**2 + y**2 <= 0.5**2) else 0, \n",
    "        \"square\": 1\n",
    "      }\n",
    "\n",
    "@module\n",
    "def combine(estimate_a, estimate_b):\n",
    "    return {\n",
    "        \"circle\": estimate_a[\"circle\"] + estimate_b[\"circle\"], \n",
    "        \"square\": estimate_a[\"square\"] + estimate_b[\"square\"]\n",
    "    }\n",
    "\n",
    "def map_mp(pool, es):\n",
    "    from functools import partial\n",
    "    from parts import parts\n",
    "    return pool.map(partial(map, trial), parts(es, pool._processes))\n",
    "\n",
    "def reduce_mp(pool, es_per_process):\n",
    "    from functools import partial, reduce    \n",
    "    return reduce(combine, pool.map(partial(reduce, combine), es_per_process))"
   ]
  },
  {
   "cell_type": "code",
   "execution_count": 1,
   "metadata": {},
   "outputs": [
    {
     "name": "stdout",
     "output_type": "stream",
     "text": [
      "3.1448\n"
     ]
    }
   ],
   "source": [
    "with mp.Pool(processes = mp.cpu_count()) as pool:\n",
    "    es = map_mp(pool, range(10000))\n",
    "    r = reduce_mp(pool, es)\n",
    "    print(4*(r[\"circle\"] / r[\"square\"]))"
   ]
  },
  {
   "cell_type": "markdown",
   "metadata": {
    "slideshow": {
     "slide_type": "slide"
    }
   },
   "source": [
    "The [mr4mp](https://pypi.org/project/mr4mp/) library provides a thin wrapper API around the multiprocessing library to enable even more concise implementations of MapReduce-like workflows. Assuming the `trial` and `combine` functions have already been defined, the entire workflow can be implemented using just a few lines of code."
   ]
  },
  {
   "cell_type": "code",
   "execution_count": 1,
   "metadata": {},
   "outputs": [
    {
     "data": {
      "text/plain": [
       "3.132"
      ]
     },
     "execution_count": 1,
     "metadata": {},
     "output_type": "execute_result"
    }
   ],
   "source": [
    "import mr4mp\n",
    "\n",
    "result = mr4mp.pool().mapreduce(trial, combine, range(1000))\n",
    "4 * (result[\"circle\"] / result[\"square\"])"
   ]
  }
 ],
 "metadata": {
  "anaconda-cloud": {},
  "celltoolbar": "Slideshow",
  "kernelspec": {
   "display_name": "Python 3",
   "language": "python",
   "name": "python3"
  },
  "language_info": {
   "codemirror_mode": {
    "name": "ipython",
    "version": 3
   },
   "file_extension": ".py",
   "mimetype": "text/x-python",
   "name": "python",
   "nbconvert_exporter": "python",
   "pygments_lexer": "ipython3",
   "version": "3.8.0"
  }
 },
 "nbformat": 4,
 "nbformat_minor": 1
}
